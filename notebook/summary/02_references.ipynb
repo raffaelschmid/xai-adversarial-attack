{
 "cells": [
  {
   "cell_type": "markdown",
   "metadata": {
    "collapsed": true,
    "pycharm": {
     "name": "#%% md\n"
    }
   },
   "source": [
    "# References\n",
    "| Title                                                                                                           | Description                                                                    | Source     |\n",
    "|-----------------------------------------------------------------------------------------------------------------|--------------------------------------------------------------------------------|------------|\n",
    "| [Adversarial exaple using FGSM](https://www.tensorflow.org/tutorials/generative/adversarial_fgsm)               | Tutorial creates an adversial example using Fast Gradient Signed Method (FGSM) | Tensorflow |\n",
    "| [Cleverhans Tutorial](https://github.com/cleverhans-lab/cleverhans/blob/master/tutorials/tf2/mnist_tutorial.py) | Cleverhans is a tool for benchmarking machine learning systems                 | Cleverhans |\n",
    "| [Adversarial Machine Learning](https://en.wikipedia.org/wiki/Adversarial_machine_learning)                      | Adversarial Machine Learning Wikipedia Article                                 | Wikipedia  |"
   ]
  },
  {
   "cell_type": "code",
   "execution_count": null,
   "outputs": [],
   "source": [],
   "metadata": {
    "collapsed": false,
    "pycharm": {
     "name": "#%%\n"
    }
   }
  }
 ],
 "metadata": {
  "kernelspec": {
   "display_name": "Python 3",
   "language": "python",
   "name": "python3"
  },
  "language_info": {
   "codemirror_mode": {
    "name": "ipython",
    "version": 2
   },
   "file_extension": ".py",
   "mimetype": "text/x-python",
   "name": "python",
   "nbconvert_exporter": "python",
   "pygments_lexer": "ipython2",
   "version": "2.7.6"
  }
 },
 "nbformat": 4,
 "nbformat_minor": 0
}