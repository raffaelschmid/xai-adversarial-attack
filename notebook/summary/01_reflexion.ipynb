{
 "cells": [
  {
   "cell_type": "markdown",
   "metadata": {
    "collapsed": true,
    "pycharm": {
     "name": "#%% md\n"
    }
   },
   "source": [
    "# Adversarial Machine Learning\n",
    "## Strategies\n",
    "- **Evasion**: Attacker tries to avoid detection by obfuscating the content. E.g. a spammer does send an image that is not going to be analyzed by the spam filter.\n",
    "- **Poisoning**: Adversarial contamination of training data in case a model is retrained by collecting data during operations E.g. an attacker may poison intrusion detection system by injecting malicious samples\n",
    "- **Model Stealing**: Adversarial Probing a black box machine learning system in order to reconstruct the model. E.g. extract a proprietary stock trading model.\n",
    "- **Inference**: Inference attacks, leverages over-generalization on training data in order to identify data used during model training.\n",
    "\n",
    "## Attack Types\n",
    "\n",
    "### White Box Attacks\n",
    "White box attacks assume that the adversary has access to model parameters on top of being able to get labels for provided inputs.\n",
    "- **Fast Gradient Sign Method (FGSM)**: Add a linear amount of noise to the image: multiply the sign of the gradient with respect to the image we want to perturb by a small constant epsilon. As epsilon increases the model is more likely to be fooled, but the perturbations become easier to identify.\n",
    "- Carlini & Wagner (C&W)\n",
    "\n",
    "### Black Box Attacks\n",
    "Black box attacks assume that the adversary can only get outputs for provided inputs and has no knowledge of the model structure or parameters:\n",
    "- **Square Attack**\n",
    "- **HopSkipJump Attack**\n"
   ]
  },
  {
   "cell_type": "code",
   "execution_count": null,
   "outputs": [],
   "source": [],
   "metadata": {
    "collapsed": false,
    "pycharm": {
     "name": "#%%\n"
    }
   }
  }
 ],
 "metadata": {
  "kernelspec": {
   "display_name": "Python 3",
   "language": "python",
   "name": "python3"
  },
  "language_info": {
   "codemirror_mode": {
    "name": "ipython",
    "version": 2
   },
   "file_extension": ".py",
   "mimetype": "text/x-python",
   "name": "python",
   "nbconvert_exporter": "python",
   "pygments_lexer": "ipython2",
   "version": "2.7.6"
  }
 },
 "nbformat": 4,
 "nbformat_minor": 0
}