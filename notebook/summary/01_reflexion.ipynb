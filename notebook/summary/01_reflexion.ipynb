{
 "cells": [
  {
   "cell_type": "markdown",
   "metadata": {
    "collapsed": true,
    "pycharm": {
     "name": "#%% md\n"
    }
   },
   "source": [
    "# Reflection\n",
    "During this project I demonstrated how fragile a model can be by introducing a very small amount of noise. I was using Fast Gradient Method with an epsilon value of 0.05 (which is very low) to generate adversarial images. These images are adversarial in the sense that the semantic meaning is preserved for humans but the prediction accuracy on the trained CNN went down from around 99% to 70%.\n",
    "\n",
    "While I was very confident with the model at the beginning, the combination of Explainable AI and adversarial images demonstrated that there is still a lot of potential\n",
    "in tuning and improving the model:\n",
    "\n",
    "1. Artificially expand the dataset\n",
    "    a) rotation\n",
    "    b) squeezing\n",
    "    c) stretching\n",
    "    d) change resolution\n",
    "    e) ...\n",
    "\n",
    "2. Use [Adversarial Regularization](https://www.tensorflow.org/neural_structured_learning/api_docs/python/nsl/keras/AdversarialRegularization) during training.\n",
    "3. Try different kinds of adversarial images during training to produce different kind of images: Jacobian-based Saliency Map Attack (JSMA), Deepfool Attack\n",
    "\n",
    "## Takeaways\n",
    "Using Explainable AI methodologies during training is important and might even help when the predictions are shown to the end customers. It helps to make the models safe against adversarial attacks and noisi input. There are XAI algorithms for most of frameworks and models out there and applying them does not necessarily take a big amount of time. Do not start\n",
    "with the most sophisticated XAI algorithm - maybe there is an easy to use library out there the already gives decent results."
   ]
  },
  {
   "cell_type": "markdown",
   "source": [],
   "metadata": {
    "collapsed": false,
    "pycharm": {
     "name": "#%% md\n"
    }
   }
  }
 ],
 "metadata": {
  "kernelspec": {
   "display_name": "Python 3",
   "language": "python",
   "name": "python3"
  },
  "language_info": {
   "codemirror_mode": {
    "name": "ipython",
    "version": 2
   },
   "file_extension": ".py",
   "mimetype": "text/x-python",
   "name": "python",
   "nbconvert_exporter": "python",
   "pygments_lexer": "ipython2",
   "version": "2.7.6"
  }
 },
 "nbformat": 4,
 "nbformat_minor": 0
}