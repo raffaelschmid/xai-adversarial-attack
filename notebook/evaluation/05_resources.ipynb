{
 "cells": [
  {
   "cell_type": "markdown",
   "metadata": {
    "collapsed": true,
    "pycharm": {
     "name": "#%% md\n"
    }
   },
   "source": [
    "# Resources"
   ]
  },
  {
   "cell_type": "markdown",
   "source": [
    "## Sources"
   ],
   "metadata": {
    "collapsed": false,
    "pycharm": {
     "name": "#%% md\n"
    }
   }
  },
  {
   "cell_type": "markdown",
   "source": [
    "| Title                                                                                                           | Description                                                                    | Source     |\n",
    "|-----------------------------------------------------------------------------------------------------------------|--------------------------------------------------------------------------------|------------|\n",
    "| [Adversarial exaple using FGSM](https://www.tensorflow.org/tutorials/generative/adversarial_fgsm)               | Tutorial creates an adversial example using Fast Gradient Signed Method (FGSM) | Tensorflow |\n",
    "| [Cleverhans Tutorial](https://github.com/cleverhans-lab/cleverhans/blob/master/tutorials/tf2/mnist_tutorial.py) | Cleverhans is a tool for benchmarking machine learning systems                 | Cleverhans |"
   ],
   "metadata": {
    "collapsed": false
   }
  },
  {
   "cell_type": "code",
   "execution_count": null,
   "outputs": [],
   "source": [],
   "metadata": {
    "collapsed": false,
    "pycharm": {
     "name": "#%%\n"
    }
   }
  }
 ],
 "metadata": {
  "kernelspec": {
   "display_name": "Python 3",
   "language": "python",
   "name": "python3"
  },
  "language_info": {
   "codemirror_mode": {
    "name": "ipython",
    "version": 2
   },
   "file_extension": ".py",
   "mimetype": "text/x-python",
   "name": "python",
   "nbconvert_exporter": "python",
   "pygments_lexer": "ipython2",
   "version": "2.7.6"
  }
 },
 "nbformat": 4,
 "nbformat_minor": 0
}